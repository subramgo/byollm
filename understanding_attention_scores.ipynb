{
 "cells": [
  {
   "cell_type": "markdown",
   "id": "6211ccef-9831-49bb-b073-aa83cb5c5ab2",
   "metadata": {},
   "source": [
    "### Scaled dot-product attention\n",
    "\n",
    "Purpose of self-attention is enrich the input features. In sequential data, in addition to individual data elements, the relationship amongst them carry a lot of information. This relationship is commonly called as the context. In a sentence \"premature optimization is the root cause of all evil\", the famous Donald Knuth quote, the word evil is better understood from the context of \"premature optimization\".\n",
    "\n",
    "The context information is calculated using the dot product of input.\n"
   ]
  },
  {
   "cell_type": "code",
   "execution_count": 39,
   "id": "2a601c7c-6b62-4018-960c-4453c7f97d3b",
   "metadata": {},
   "outputs": [
    {
     "name": "stdout",
     "output_type": "stream",
     "text": [
      "x, input shape (5, 10)\n",
      "wq, q weight matrix shape (20, 10)\n",
      "wk, k weight matrix shape (20, 10)\n",
      "wv, v weight matrix shape (25, 10)\n"
     ]
    }
   ],
   "source": [
    "import numpy as np\n",
    "\n",
    "SEQ_LEN   = 5\n",
    "EMBD_LEN  = 10\n",
    "\n",
    "# input matrix\n",
    "x = np.random.normal(size=(SEQ_LEN,EMBD_LEN))\n",
    "\n",
    "# dimensions of q,k and v \n",
    "q_d = k_d = 20 # dimension of query and key weights\n",
    "v_d = 25       # dimension of value matrix weight\n",
    "\n",
    "# weight matrices\n",
    "wq = np.random.normal(size=(q_d, EMBD_LEN))\n",
    "wk = np.random.normal(size=(k_d, EMBD_LEN))\n",
    "wv = np.random.normal(size=(v_d, EMBD_LEN))\n",
    "\n",
    "print(f\"x, input shape {x.shape}\")\n",
    "\n",
    "print(f\"wq, q weight matrix shape {wq.shape}\")\n",
    "print(f\"wk, k weight matrix shape {wk.shape}\")\n",
    "print(f\"wv, v weight matrix shape {wv.shape}\")\n",
    "\n"
   ]
  },
  {
   "cell_type": "code",
   "execution_count": 43,
   "id": "54fa5df8-9f20-4188-baea-911cf49e3d36",
   "metadata": {},
   "outputs": [
    {
     "name": "stdout",
     "output_type": "stream",
     "text": [
      "wqp, q weight matrix shape (5, 20)\n",
      "wkp, k weight matrix shape (5, 20)\n",
      "wvp, v weight matrix shape (5, 25)\n"
     ]
    }
   ],
   "source": [
    "# projection operation\n",
    "wqp = np.matmul(wq,x.T).T\n",
    "wkp = np.matmul(wk,x.T).T\n",
    "wvp = np.matmul(wv,x.T).T\n",
    "\n",
    "print(f\"wqp, q weight matrix shape {wqp.shape}\")\n",
    "print(f\"wkp, k weight matrix shape {wkp.shape}\")\n",
    "print(f\"wvp, v weight matrix shape {wvp.shape}\")\n"
   ]
  },
  {
   "cell_type": "code",
   "execution_count": 78,
   "id": "600e80c0-cab3-4bff-b341-de614ada8c3e",
   "metadata": {},
   "outputs": [
    {
     "name": "stdout",
     "output_type": "stream",
     "text": [
      "score shape (5, 5)\n"
     ]
    }
   ],
   "source": [
    "# score calculation\n",
    "def softmax(x):\n",
    "    e_x = np.exp(x)\n",
    "    return e_x / e_x.sum(axis=1,keepdims=True)\n",
    "\n",
    "score = np.matmul(wqp, wkp.T)\n",
    "\n",
    "print(f\"score shape {score.shape}\")\n",
    "scaled_score = score / np.sqrt(wkd)\n",
    "scaled_softmax_score = softmax(scaled_score)\n"
   ]
  },
  {
   "cell_type": "code",
   "execution_count": 85,
   "id": "2efd4738-524c-4ddd-81db-52b597a74b30",
   "metadata": {},
   "outputs": [
    {
     "data": {
      "text/plain": [
       "array([  2.83474113,   5.01490124,  -0.08648265,  -2.21421563,\n",
       "         1.90748451,   5.32280097,  -7.62641771,  -2.64733799,\n",
       "       -10.30350218,   7.95395517,   3.18308381,   4.1216483 ,\n",
       "        -7.71829382, -10.80888751,  -3.56157144,  -9.99145609,\n",
       "         1.45420529,  10.05256878,  -9.57323371,   5.71147096,\n",
       "        -4.5186982 ,   1.80217433,   1.17459313,  -2.42544073,\n",
       "        -0.58961725])"
      ]
     },
     "execution_count": 85,
     "metadata": {},
     "output_type": "execute_result"
    }
   ],
   "source": [
    "context_vector = np.sum(np.matmul(scaled_softmax_score, wvp),axis=0)\n",
    "context_vector"
   ]
  },
  {
   "cell_type": "code",
   "execution_count": null,
   "id": "bd2ed46b-c8db-4ea3-8be3-44d47ab934fb",
   "metadata": {},
   "outputs": [],
   "source": []
  }
 ],
 "metadata": {
  "environment": {
   "kernel": "python3",
   "name": "tf2-gpu.2-11.m108",
   "type": "gcloud",
   "uri": "gcr.io/deeplearning-platform-release/tf2-gpu.2-11:m108"
  },
  "kernelspec": {
   "display_name": "Python 3 (ipykernel)",
   "language": "python",
   "name": "python3"
  },
  "language_info": {
   "codemirror_mode": {
    "name": "ipython",
    "version": 3
   },
   "file_extension": ".py",
   "mimetype": "text/x-python",
   "name": "python",
   "nbconvert_exporter": "python",
   "pygments_lexer": "ipython3",
   "version": "3.10.10"
  }
 },
 "nbformat": 4,
 "nbformat_minor": 5
}

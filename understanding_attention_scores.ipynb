{
 "cells": [
  {
   "cell_type": "markdown",
   "id": "6211ccef-9831-49bb-b073-aa83cb5c5ab2",
   "metadata": {},
   "source": [
    "## Scaled dot-product attention\n",
    "\n"
   ]
  },
  {
   "cell_type": "markdown",
   "id": "8bfcd1b1-fedd-47ae-9f85-e40bb0500035",
   "metadata": {},
   "source": [
    "### Attention bare bone implementation"
   ]
  },
  {
   "cell_type": "code",
   "execution_count": 254,
   "id": "97732f1d-5220-40a6-b404-5f97b083d205",
   "metadata": {},
   "outputs": [],
   "source": [
    "import numpy as np\n",
    "\n",
    "\n",
    "SEQ_LEN   = 5\n",
    "EMBD_LEN  = 10\n",
    "\n",
    "# input matrix\n",
    "x = np.random.normal(size=(SEQ_LEN,EMBD_LEN))"
   ]
  },
  {
   "cell_type": "markdown",
   "id": "45f08544-97bb-4c27-bfd8-3a58334ebaca",
   "metadata": {},
   "source": [
    "### attention score and feature enriching vectorized"
   ]
  },
  {
   "cell_type": "code",
   "execution_count": 256,
   "id": "5e4afe2f-7e93-4a47-9304-8a689d2a24dd",
   "metadata": {},
   "outputs": [],
   "source": [
    "pairwise_scoring = np.matmul(x,x.T)\n",
    "enriched_x = np.matmul(pairwise_scoring, x)\n"
   ]
  },
  {
   "cell_type": "markdown",
   "id": "5677d1c8-7ae8-4401-bab1-95b7b46bfab1",
   "metadata": {},
   "source": [
    "### non-vectorized feature enriching"
   ]
  },
  {
   "cell_type": "code",
   "execution_count": 258,
   "id": "281f409d-9708-4a45-932b-68012bc069f8",
   "metadata": {},
   "outputs": [],
   "source": [
    "enriched_x_ = np.zeros(shape=x.shape)\n",
    "# to compute the sum of all word vectors in the sentence, weighted by our relevancy scores\n",
    "\n",
    "for i, scores in enumerate(pairwise_scoring):\n",
    "    weighted_sum = np.zeros(x[0,:].shape)\n",
    "    for j,score in enumerate(scores):\n",
    "        weighted_sum+= x[j,:] * score\n",
    "    enriched_x[i] = weighted_sum\n",
    "    \n"
   ]
  },
  {
   "cell_type": "markdown",
   "id": "44f75f6d-e107-4d51-bbc4-e3a90b6289ac",
   "metadata": {},
   "source": [
    "### query,key,value model"
   ]
  },
  {
   "cell_type": "code",
   "execution_count": 259,
   "id": "b9322ebc-61e6-4a0f-8b7b-97c78a3c8f27",
   "metadata": {},
   "outputs": [],
   "source": [
    "vocabulary = ['a','b','c','d']\n",
    "documents  = ['d1','d2', 'd3','d4','d5']\n",
    "\n",
    "inverted_index = {('a','b'): ['d1','d2']\n",
    "                 ,('a','c'): ['d1','d2','d3']\n",
    "                 ,('b'): ['d1','d2']\n",
    "                 ,('c','d'): ['d4','d5']\n",
    "                 }\n",
    "\n",
    "query = ('a','c')\n",
    "\n",
    "\n",
    "results = set()\n",
    "for key,value in inverted_index.items():\n",
    "    match = set(query).intersection(set(key))\n",
    "    if  len(match) >= 1:\n",
    "        for document in value:\n",
    "            results.add(document)\n",
    "\n",
    "    "
   ]
  },
  {
   "cell_type": "markdown",
   "id": "90a3294f-8b43-40a8-951c-12c618d8ab33",
   "metadata": {},
   "source": [
    "### projection of x into query,key,value matrices"
   ]
  },
  {
   "cell_type": "code",
   "execution_count": 260,
   "id": "2a601c7c-6b62-4018-960c-4453c7f97d3b",
   "metadata": {},
   "outputs": [
    {
     "name": "stdout",
     "output_type": "stream",
     "text": [
      "x, input shape (5, 10)\n",
      "wq, q weight matrix shape (20, 10)\n",
      "wk, k weight matrix shape (20, 10)\n",
      "wv, v weight matrix shape (25, 10)\n"
     ]
    }
   ],
   "source": [
    "\n",
    "\n",
    "# dimensions of q,k and v \n",
    "q_d = k_d = 20 # dimension of query and key weights\n",
    "v_d = 25       # dimension of value matrix weight\n",
    "\n",
    "# weight matrices\n",
    "wq = np.random.normal(size=(q_d, EMBD_LEN))\n",
    "wk = np.random.normal(size=(k_d, EMBD_LEN))\n",
    "wv = np.random.normal(size=(v_d, EMBD_LEN))\n",
    "\n",
    "print(f\"x, input shape {x.shape}\")\n",
    "\n",
    "print(f\"wq, q weight matrix shape {wq.shape}\")\n",
    "print(f\"wk, k weight matrix shape {wk.shape}\")\n",
    "print(f\"wv, v weight matrix shape {wv.shape}\")\n",
    "\n"
   ]
  },
  {
   "cell_type": "code",
   "execution_count": 261,
   "id": "54fa5df8-9f20-4188-baea-911cf49e3d36",
   "metadata": {},
   "outputs": [
    {
     "name": "stdout",
     "output_type": "stream",
     "text": [
      "wqp, q weight matrix shape (5, 20)\n",
      "wkp, k weight matrix shape (5, 20)\n",
      "wvp, v weight matrix shape (5, 25)\n"
     ]
    }
   ],
   "source": [
    "# projection operation\n",
    "wqp = np.matmul(wq,x.T).T\n",
    "wkp = np.matmul(wk,x.T).T\n",
    "wvp = np.matmul(wv,x.T).T\n",
    "\n",
    "print(f\"wqp, q weight matrix shape {wqp.shape}\")\n",
    "print(f\"wkp, k weight matrix shape {wkp.shape}\")\n",
    "print(f\"wvp, v weight matrix shape {wvp.shape}\")\n"
   ]
  },
  {
   "cell_type": "code",
   "execution_count": 262,
   "id": "600e80c0-cab3-4bff-b341-de614ada8c3e",
   "metadata": {},
   "outputs": [
    {
     "name": "stdout",
     "output_type": "stream",
     "text": [
      "score shape (5, 5)\n"
     ]
    }
   ],
   "source": [
    "# score calculation\n",
    "def softmax(x):\n",
    "    e_x = np.exp(x)\n",
    "    return e_x / e_x.sum(axis=1,keepdims=True)\n",
    "\n",
    "score = np.matmul(wqp, wkp.T)\n",
    "\n",
    "print(f\"score shape {score.shape}\")\n",
    "scaled_score = score / np.sqrt(wkd)\n",
    "scaled_softmax_score = softmax(scaled_score)\n"
   ]
  },
  {
   "cell_type": "code",
   "execution_count": 263,
   "id": "2efd4738-524c-4ddd-81db-52b597a74b30",
   "metadata": {},
   "outputs": [
    {
     "data": {
      "text/plain": [
       "(25,)"
      ]
     },
     "execution_count": 263,
     "metadata": {},
     "output_type": "execute_result"
    }
   ],
   "source": [
    "context_vector = np.sum(np.matmul(scaled_softmax_score, wvp),axis=0)\n",
    "context_vector.shape"
   ]
  },
  {
   "cell_type": "code",
   "execution_count": null,
   "id": "bd2ed46b-c8db-4ea3-8be3-44d47ab934fb",
   "metadata": {},
   "outputs": [],
   "source": []
  }
 ],
 "metadata": {
  "environment": {
   "kernel": "python3",
   "name": "tf2-gpu.2-11.m108",
   "type": "gcloud",
   "uri": "gcr.io/deeplearning-platform-release/tf2-gpu.2-11:m108"
  },
  "kernelspec": {
   "display_name": "Python 3 (ipykernel)",
   "language": "python",
   "name": "python3"
  },
  "language_info": {
   "codemirror_mode": {
    "name": "ipython",
    "version": 3
   },
   "file_extension": ".py",
   "mimetype": "text/x-python",
   "name": "python",
   "nbconvert_exporter": "python",
   "pygments_lexer": "ipython3",
   "version": "3.10.10"
  }
 },
 "nbformat": 4,
 "nbformat_minor": 5
}
